{
 "cells": [
  {
   "cell_type": "code",
   "execution_count": 1,
   "metadata": {},
   "outputs": [],
   "source": [
    "import numpy as np\n",
    "import networkx as nx\n",
    "import pandas as pd\n",
    "import csv\n",
    "\n",
    "class SZRmodel(object):\n",
    "    \n",
    "        ######################################\n",
    "        # Main class of the simulation.      #\n",
    "        # contains all essential information # \n",
    "        # to run the simulation.             #\n",
    "        ######################################\n",
    "        \n",
    "\n",
    "        \n",
    "        #The initializer takes a networkx object as a topology\n",
    "        #and iniatializes the model at t = 0\n",
    "        \n",
    "        def __init__(self,topology,Znumber=1,kill_prob=0.2,inf_prob = 0.8):\n",
    "            \n",
    "            assert type(topology) is nx.classes.graph.Graph\n",
    "            assert type(Znumber) is int\n",
    "            #Probabilities of interactions\n",
    "            self.kill_prob = kill_prob\n",
    "            self.inf_prob = inf_prob\n",
    "            assert self.kill_prob+self.inf_prob <= 1\n",
    "            \n",
    "            self.G = topology\n",
    "            self.N = self.G.number_of_nodes()\n",
    "            self.states = np.zeros(self.N)\n",
    "            init_zombies =  np.random.choice(self.G.number_of_nodes(),Znumber)\n",
    "            self.states[init_zombies] = 1 #SETTING ZOMBIE NODES TO STATE = 1\n",
    "            self.edges = np.array(self.G.edges())\n",
    "            self.df=pd.DataFrame()#creates empty dataframe\n",
    "\n",
    "        def step(self):\n",
    "            # G.size() returns number of EDGES! \n",
    "            link = int(np.random.choice(np.array(self.G.size()),1))\n",
    "            #link is a randomly chosen edge\n",
    "            #we check the states of the nodes on each side of link\n",
    "            agent1 = self.edges[link,0]\n",
    "            agent2 = self.edges[link,1]\n",
    "            state1 = self.states[agent1]\n",
    "            state2 = self.states[agent2]\n",
    "            #In order for the states to interact one has to be human, state = 0\n",
    "            #and the other has to be a zombie state = 1\n",
    "            #so it is sufficient to check if state1+state2 == 1\n",
    "            \n",
    "            if (state1 + state2 == 1): \n",
    "                #now we have to distinguish between them\n",
    "                if state1 == 0:\n",
    "                    human = agent1\n",
    "                    zombie = agent2\n",
    "                else:\n",
    "                    human = agent2\n",
    "                    zombie = agent1\n",
    "                roll = np.random.uniform()\n",
    "                if roll < self.kill_prob: \n",
    "                    #Human wins\n",
    "                    #Z --> R\n",
    "                    self.states[zombie] = 2\n",
    "                elif roll < self.kill_prob + self.inf_prob:\n",
    "                    #Zombie wins\n",
    "                    #H --> Z\n",
    "                    self.states[human] = 1\n",
    "                    \n",
    "        def runTrial(self, num_trial, niter= 25000, timestep = 50):\n",
    "            #This method performs one Trial of the simulation and stores \n",
    "            #data regarding the states of the system at certain timesteps\n",
    "            #in csv files\n",
    "            for i in range(niter):\n",
    "                self.step()\n",
    "                if(i%timestep==0):\n",
    "                    df_state = pd.DataFrame(self.states)\n",
    "                    # stores states in dataFrame\n",
    "                    self.df = pd.concat([self.df, df_state], axis=1)\n",
    "            self.df.to_csv('simData/trial' + str(num_trial) + '.csv')\n",
    "            self.df = pd.DataFrame()\n",
    "def runSim(G, trials = 100):\n",
    "    #this calls runTrial() a number of times and saves the results\n",
    "    for i in range(trials):\n",
    "        model = SZRmodel(topology=G)\n",
    "        model.runTrial(i)\n",
    "                \n"
   ]
  },
  {
   "cell_type": "code",
   "execution_count": 3,
   "metadata": {},
   "outputs": [],
   "source": [
    "g = nx.barabasi_albert_graph(1000,4)\n",
    "model = SZRmodel(g)"
   ]
  },
  {
   "cell_type": "code",
   "execution_count": 4,
   "metadata": {},
   "outputs": [],
   "source": [
    "runSim(g,100)"
   ]
  },
  {
   "cell_type": "code",
   "execution_count": null,
   "metadata": {},
   "outputs": [],
   "source": []
  },
  {
   "cell_type": "code",
   "execution_count": null,
   "metadata": {},
   "outputs": [],
   "source": [
    "frame = pd.read_csv('simData/trial99.csv')\n",
    "print(frame)"
   ]
  },
  {
   "cell_type": "code",
   "execution_count": null,
   "metadata": {},
   "outputs": [],
   "source": []
  }
 ],
 "metadata": {
  "kernelspec": {
   "display_name": "Python 3",
   "language": "python",
   "name": "python3"
  },
  "language_info": {
   "codemirror_mode": {
    "name": "ipython",
    "version": 3
   },
   "file_extension": ".py",
   "mimetype": "text/x-python",
   "name": "python",
   "nbconvert_exporter": "python",
   "pygments_lexer": "ipython3",
   "version": "3.5.2"
  }
 },
 "nbformat": 4,
 "nbformat_minor": 2
}
