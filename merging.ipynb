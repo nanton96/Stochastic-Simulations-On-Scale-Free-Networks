{
 "cells": [
  {
   "cell_type": "code",
   "execution_count": 1,
   "metadata": {},
   "outputs": [
    {
     "name": "stdout",
     "output_type": "stream",
     "text": [
      "None\n"
     ]
    }
   ],
   "source": [
    "import os\n",
    "import pandas as pd\n",
    "from collections import Counter\n",
    "dirListing = os.chdir('simData')\n",
    "print (dirListing)\n",
    "editFiles = []\n"
   ]
  },
  {
   "cell_type": "code",
   "execution_count": 50,
   "metadata": {},
   "outputs": [
    {
     "name": "stdout",
     "output_type": "stream",
     "text": [
      "['trial2.csv', 'trial0.csv', 'trial8.csv', 'trial3.csv', 'trial6.csv', 'trial9.csv', 'trial1.csv', 'trial4.csv', 'trial5.csv', 'trial7.csv']\n",
      "trial2.csv\n",
      "trial0.csv\n",
      "trial8.csv\n",
      "trial3.csv\n",
      "trial6.csv\n",
      "trial9.csv\n",
      "trial1.csv\n",
      "trial4.csv\n",
      "trial5.csv\n",
      "trial7.csv\n",
      "[]\n"
     ]
    }
   ],
   "source": [
    "\n",
    "files=os.listdir()\n",
    "df=pd.DataFrame()\n",
    "\n",
    "print(files)\n",
    "for item in files:\n",
    "    if \".csv\" in item:\n",
    "        print (item)\n",
    "print (editFiles)"
   ]
  },
  {
   "cell_type": "code",
   "execution_count": 51,
   "metadata": {},
   "outputs": [],
   "source": [
    "r=pd.DataFrame.from_csv('trial0.csv')\n",
    "s=r.iloc[990]\n",
    "df=pd.DataFrame()6\n",
    "time_steps=(len(r.columns))#time steps at which we have recorded population\n",
    "a=range(time_steps)#makes a list with time intervals\n",
    "r.columns=a #relables the columns so that they corresond to steps all integers\n",
    "for i in a:\n",
    "    df[i]=pd.value_counts(r[i])\n"
   ]
  },
  {
   "cell_type": "code",
   "execution_count": 61,
   "metadata": {},
   "outputs": [
    {
     "name": "stdout",
     "output_type": "stream",
     "text": [
      "     0    1    2    3    4    5    6    7    8    9   ...   290  291  292  \\\n",
      "0.0  999  999  999  999  999  999  999  999  999  999 ...    46   46   46   \n",
      "1.0    1    1    1    1    1    1    1    1    1    1 ...   736  736  736   \n",
      "\n",
      "     293  294  295  296  297  298  299  \n",
      "0.0   46   46   46   46   46   46   46  \n",
      "1.0  736  736  736  736  736  736  736  \n",
      "\n",
      "[2 rows x 300 columns]\n"
     ]
    }
   ],
   "source": [
    "r=pd.DataFrame.from_csv('trial3.csv')\n",
    "time_steps=(len(r.columns))#time steps at which we have recorded population\n",
    "a=range(time_steps)#makes a list with time intervals\n",
    "r.columns=a #relables the columns so that they corresond to steps all integers\n",
    "for i in a:\n",
    "    df[i]=pd.value_counts(r[i])\n",
    "print(df)"
   ]
  },
  {
   "cell_type": "code",
   "execution_count": 62,
   "metadata": {},
   "outputs": [],
   "source": [
    "import matplotlib.pyplot as plt\n",
    "%matplotlib inline"
   ]
  },
  {
   "cell_type": "code",
   "execution_count": 64,
   "metadata": {},
   "outputs": [
    {
     "data": {
      "image/png": "[encoded data removed]",
      "text/plain": [
       "<matplotlib.figure.Figure at 0x7f40293fcb38>"
      ]
     },
     "metadata": {},
     "output_type": "display_data"
    }
   ],
   "source": [
    "df.T.plot()\n",
    "plt.savefig('exampletrial.png')"
   ]
  },
  {
   "cell_type": "code",
   "execution_count": null,
   "metadata": {},
   "outputs": [],
   "source": []
  }
 ],
 "metadata": {
  "kernelspec": {
   "display_name": "Python 3",
   "language": "python",
   "name": "python3"
  },
  "language_info": {
   "codemirror_mode": {
    "name": "ipython",
    "version": 3
   },
   "file_extension": ".py",
   "mimetype": "text/x-python",
   "name": "python",
   "nbconvert_exporter": "python",
   "pygments_lexer": "ipython3",
   "version": "3.5.2"
  }
 },
 "nbformat": 4,
 "nbformat_minor": 2
}
