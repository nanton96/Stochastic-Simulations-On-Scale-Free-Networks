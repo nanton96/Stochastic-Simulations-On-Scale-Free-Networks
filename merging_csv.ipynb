{
 "cells": [
  {
   "cell_type": "code",
   "execution_count": 4,
   "metadata": {},
   "outputs": [
    {
     "ename": "FileNotFoundError",
     "evalue": "[Errno 2] No such file or directory: 'simData'",
     "output_type": "error",
     "traceback": [
      "\u001b[0;31m---------------------------------------------------------------------------\u001b[0m",
      "\u001b[0;31mFileNotFoundError\u001b[0m                         Traceback (most recent call last)",
      "\u001b[0;32m<ipython-input-4-3768de9c7104>\u001b[0m in \u001b[0;36m<module>\u001b[0;34m()\u001b[0m\n\u001b[1;32m      4\u001b[0m \u001b[0;31m#assumes trail files are stored in simData folder\u001b[0m\u001b[0;34m\u001b[0m\u001b[0;34m\u001b[0m\u001b[0m\n\u001b[1;32m      5\u001b[0m \u001b[0;31m#and simData folder in current directory\u001b[0m\u001b[0;34m\u001b[0m\u001b[0;34m\u001b[0m\u001b[0m\n\u001b[0;32m----> 6\u001b[0;31m \u001b[0mos\u001b[0m\u001b[0;34m.\u001b[0m\u001b[0mchdir\u001b[0m\u001b[0;34m(\u001b[0m\u001b[0;34m'simData'\u001b[0m\u001b[0;34m)\u001b[0m\u001b[0;34m\u001b[0m\u001b[0m\n\u001b[0m\u001b[1;32m      7\u001b[0m \u001b[0meditFiles\u001b[0m \u001b[0;34m=\u001b[0m \u001b[0;34m[\u001b[0m\u001b[0;34m]\u001b[0m\u001b[0;34m\u001b[0m\u001b[0m\n",
      "\u001b[0;31mFileNotFoundError\u001b[0m: [Errno 2] No such file or directory: 'simData'"
     ]
    }
   ],
   "source": [
    "import os\n",
    "import pandas as pd\n",
    "from collections import Counter\n",
    "#assumes trail files are stored in simData folder \n",
    "#and simData folder in current directory\n",
    "os.chdir('simData')\n",
    "editFiles = []\n"
   ]
  },
  {
   "cell_type": "code",
   "execution_count": 12,
   "metadata": {},
   "outputs": [],
   "source": [
    "\n",
    "\n",
    "\n",
    "\n",
    "\n",
    "n=0\n",
    "def merge():# merge trials\n",
    "    files=os.listdir() #get all files current directory\n",
    "    n=0\n",
    "    final=pd.DataFrame()\n",
    "    for item in files:\n",
    "        df=pd.DataFrame()\n",
    "        \n",
    "        if \"trial\" in item:\n",
    "            print (item)\n",
    "            r=pd.DataFrame.from_csv(item)\n",
    "            time_steps=(len(r.columns))#time steps at which we have recorded population\n",
    "            a=range(time_steps)#makes a list with time intervals\n",
    "            r.columns=a #relables the columns so that they corresond to steps all integers\n",
    "            for i in a:\n",
    "                df[i]=pd.value_counts(r[i])\n",
    "            \n",
    "            final=pd.concat([final,df])\n",
    "    print(final)\n",
    "    \n",
    "    final=final.groupby(final.index).sum()/(len(final.index)/2)\n",
    "    print(final)\n",
    "    final.to_csv(\"ave\"+str(n)+'.csv')\n",
    "     \n",
    "\n",
    "    "
   ]
  },
  {
   "cell_type": "code",
   "execution_count": 13,
   "metadata": {},
   "outputs": [
    {
     "name": "stdout",
     "output_type": "stream",
     "text": [
      "trial0.csv\n",
      "trial1.csv\n",
      "trial2.csv\n",
      "trial3.csv\n",
      "     0    1    2    3    4    5    6    7    8    9   ...   290  291  292  \\\n",
      "0.0  999  999  999  999  999  999  999  999  999  999 ...    62   61   61   \n",
      "1.0    1    1    1    1    1    1    1    1    1    1 ...   707  708  708   \n",
      "0.0  999  999  999  999  999  999  999  999  999  999 ...    78   76   75   \n",
      "1.0    1    1    1    1    1    1    1    1    1    1 ...   692  694  694   \n",
      "0.0  999  999  999  999  999  999  999  999  999  999 ...   190  189  188   \n",
      "1.0    1    1    1    1    1    1    1    1    1    1 ...   615  616  617   \n",
      "0.0  999  999  999  999  999  999  999  999  999  999 ...    78   78   78   \n",
      "1.0    1    1    1    1    1    1    1    1    1    1 ...   711  710  710   \n",
      "\n",
      "     293  294  295  296  297  298  299  \n",
      "0.0   61   60   60   60   59   59   58  \n",
      "1.0  708  709  709  709  710  709  710  \n",
      "0.0   75   75   75   73   73   73   72  \n",
      "1.0  694  694  694  696  696  696  697  \n",
      "0.0  186  184  183  183  181  178  177  \n",
      "1.0  617  619  620  619  621  624  625  \n",
      "0.0   77   77   75   75   75   75   75  \n",
      "1.0  711  711  713  713  713  712  712  \n",
      "\n",
      "[8 rows x 300 columns]\n",
      "       0      1      2      3      4      5      6      7      8      9    \\\n",
      "0.0  999.0  999.0  999.0  999.0  999.0  999.0  999.0  999.0  999.0  999.0   \n",
      "1.0    1.0    1.0    1.0    1.0    1.0    1.0    1.0    1.0    1.0    1.0   \n",
      "\n",
      "     ...       290    291     292     293     294     295     296    297  \\\n",
      "0.0  ...    102.00  101.0  100.50   99.75   99.00   98.25   97.75   97.0   \n",
      "1.0  ...    681.25  682.0  682.25  682.50  683.25  684.00  684.25  685.0   \n",
      "\n",
      "        298    299  \n",
      "0.0   96.25   95.5  \n",
      "1.0  685.25  686.0  \n",
      "\n",
      "[2 rows x 300 columns]\n"
     ]
    }
   ],
   "source": [
    "merge()"
   ]
  },
  {
   "cell_type": "code",
   "execution_count": null,
   "metadata": {},
   "outputs": [],
   "source": []
  }
 ],
 "metadata": {
  "kernelspec": {
   "display_name": "Python 3",
   "language": "python",
   "name": "python3"
  },
  "language_info": {
   "codemirror_mode": {
    "name": "ipython",
    "version": 3
   },
   "file_extension": ".py",
   "mimetype": "text/x-python",
   "name": "python",
   "nbconvert_exporter": "python",
   "pygments_lexer": "ipython3",
   "version": "3.6.2"
  }
 },
 "nbformat": 4,
 "nbformat_minor": 2
}
